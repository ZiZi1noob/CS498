{
 "cells": [
  {
   "cell_type": "code",
   "execution_count": null,
   "metadata": {},
   "outputs": [],
   "source": [
    "temp = {'county': 1020, 'de': 1684, 'list': 1948, 'new': 1077, 'school': 1065}\n",
    "temp"
   ]
  }
 ],
 "metadata": {
  "kernelspec": {
   "display_name": "base",
   "language": "python",
   "name": "python3"
  },
  "language_info": {
   "name": "python",
   "version": "3.9.13"
  },
  "orig_nbformat": 4,
  "vscode": {
   "interpreter": {
    "hash": "72deab158d898eb1dd5b3564c81b4f6a66beb028683f7a5efe61d75bab5d6e00"
   }
  }
 },
 "nbformat": 4,
 "nbformat_minor": 2
}
