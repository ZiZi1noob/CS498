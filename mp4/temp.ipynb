{
 "cells": [
  {
   "cell_type": "code",
   "execution_count": 3,
   "metadata": {},
   "outputs": [
    {
     "name": "stdout",
     "output_type": "stream",
     "text": [
      "['c:\\\\Users\\\\ZiZi\\\\Anaconda3\\\\lib\\\\site-packages\\\\ipykernel_launcher.py', '--ip=127.0.0.1', '--stdin=9003', '--control=9001', '--hb=9000', '--Session.signature_scheme=\"hmac-sha256\"', '--Session.key=b\"01edd7b3-7ac1-4910-9b02-9f664f6f71cc\"', '--shell=9002', '--transport=\"tcp\"', '--iopub=9004', '--f=c:\\\\Users\\\\ZiZi\\\\AppData\\\\Roaming\\\\jupyter\\\\runtime\\\\kernel-v2-11484gX8g2dyaNRtx.json']\n"
     ]
    }
   ],
   "source": [
    "\n",
    "import sys\n",
    "  \n",
    "  \n",
    "print(\n",
    "       sys.argv)\n"
   ]
  }
 ],
 "metadata": {
  "kernelspec": {
   "display_name": "base",
   "language": "python",
   "name": "python3"
  },
  "language_info": {
   "codemirror_mode": {
    "name": "ipython",
    "version": 3
   },
   "file_extension": ".py",
   "mimetype": "text/x-python",
   "name": "python",
   "nbconvert_exporter": "python",
   "pygments_lexer": "ipython3",
   "version": "3.9.13"
  },
  "orig_nbformat": 4,
  "vscode": {
   "interpreter": {
    "hash": "72deab158d898eb1dd5b3564c81b4f6a66beb028683f7a5efe61d75bab5d6e00"
   }
  }
 },
 "nbformat": 4,
 "nbformat_minor": 2
}
